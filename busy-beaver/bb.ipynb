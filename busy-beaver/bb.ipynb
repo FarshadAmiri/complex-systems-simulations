{
 "cells": [
  {
   "cell_type": "code",
   "execution_count": 49,
   "id": "676b8a2d",
   "metadata": {},
   "outputs": [],
   "source": [
    "import random"
   ]
  },
  {
   "cell_type": "code",
   "execution_count": 50,
   "id": "71ac340e",
   "metadata": {},
   "outputs": [],
   "source": [
    "n = 3\n",
    "iters = 1000000\n",
    "max_steps_to_halt = 1000\n",
    "\n",
    "initial_tape = [\"0\"]\n",
    "initial_head_idx = 0\n",
    "initial_mode = \"a\""
   ]
  },
  {
   "cell_type": "code",
   "execution_count": 51,
   "id": "91383e66",
   "metadata": {},
   "outputs": [],
   "source": [
    "write_set = [\"0\", \"1\"]\n",
    "move_set = [\"l\", \"r\"]\n",
    "next_mode_set = [chr(97+i) for i in range(n)]\n",
    "\n",
    "state_set = []\n",
    "for i in next_mode_set:\n",
    "    for j in write_set:\n",
    "        state_set.append((i, j))"
   ]
  },
  {
   "cell_type": "code",
   "execution_count": 52,
   "id": "f45939c3",
   "metadata": {},
   "outputs": [
    {
     "name": "stdout",
     "output_type": "stream",
     "text": [
      "write_set: ['0', '1']\n",
      "move_set: ['l', 'r']\n",
      "next_mode_set: ['a', 'b', 'c']\n",
      "state_set: [('a', '0'), ('a', '1'), ('b', '0'), ('b', '1'), ('c', '0'), ('c', '1')]\n"
     ]
    }
   ],
   "source": [
    "print(f\"write_set: {write_set}\")\n",
    "print(f\"move_set: {move_set}\")\n",
    "print(f\"next_mode_set: {next_mode_set}\")\n",
    "print(f\"state_set: {state_set}\")"
   ]
  },
  {
   "cell_type": "code",
   "execution_count": 53,
   "id": "11252555",
   "metadata": {},
   "outputs": [],
   "source": [
    "def generate_rules(state_set, write_set, move_set, next_mode_set):\n",
    "    rules_set = dict()\n",
    "    halt_state = random.choice(state_set)\n",
    "    for state in state_set:\n",
    "        write_act = random.choice(write_set)\n",
    "        move_act = random.choice(move_set)\n",
    "        next_mode_act = random.choice(next_mode_set)\n",
    "        rules_set[state] = [write_act, move_act, next_mode_act]\n",
    "    rules_set[halt_state][-1] = \"halt\"  # Define halt state\n",
    "    return rules_set\n",
    "\n",
    "# print(generate_rules(state_set, write_set, move_set, next_mode_set))"
   ]
  },
  {
   "cell_type": "code",
   "execution_count": 55,
   "id": "33c0cb5f",
   "metadata": {},
   "outputs": [],
   "source": [
    "def simulate_turing_machine(rules_set, tape, head_idx, mode):\n",
    "    current_symbol = tape[head_idx]\n",
    "    \n",
    "    write_symbol, move_direction, mode = rules_set[(mode, current_symbol)]\n",
    "    tape[head_idx] = write_symbol\n",
    "\n",
    "    if move_direction == \"r\":\n",
    "        head_idx += 1\n",
    "    elif move_direction == \"l\":\n",
    "        head_idx -= 1\n",
    "\n",
    "    if head_idx < 0:\n",
    "        tape.insert(0, \"0\")\n",
    "        head_idx = 0\n",
    "    if head_idx >= len(tape):\n",
    "        tape.insert(len(tape), \"0\")\n",
    "        head_idx = len(tape) - 1\n",
    "\n",
    "\n",
    "    return (tape, head_idx, mode)"
   ]
  },
  {
   "cell_type": "code",
   "execution_count": null,
   "id": "325a8039",
   "metadata": {},
   "outputs": [
    {
     "name": "stdout",
     "output_type": "stream",
     "text": [
      "Max score updated to 1 - Iter 3\n",
      "Max shifts updated to 3 - Iter 3\n",
      "Max score updated to 3 - Iter 6\n",
      "Max shifts updated to 6 - Iter 6\n",
      "Max shifts updated to 8 - Iter 65\n",
      "Max score updated to 4 - Iter 297\n",
      "Max shifts updated to 10 - Iter 751\n",
      "Max score updated to 5 - Iter 1813\n",
      "Max shifts updated to 12 - Iter 1813\n",
      "Max shifts updated to 18 - Iter 5546\n",
      "Max shifts updated to 20 - Iter 67277\n",
      "Max score updated to 6 - Iter 86981\n",
      "Max shifts updated to 21 - Iter 932486\n"
     ]
    }
   ],
   "source": [
    "max_score = 0\n",
    "max_shifts = 0\n",
    "\n",
    "for iter in range(iters):\n",
    "    rules_set = generate_rules(state_set, write_set, move_set, next_mode_set)\n",
    "    tape = initial_tape.copy()\n",
    "    head_idx = initial_head_idx\n",
    "    mode = initial_mode\n",
    "    score = 0\n",
    "    shifts = 0\n",
    "\n",
    "    for i in range(max_steps_to_halt):\n",
    "        tape, head_idx, mode = simulate_turing_machine(rules_set, tape, head_idx, mode)\n",
    "        \n",
    "        score = tape.count(\"1\")\n",
    "        shifts = i+1\n",
    "\n",
    "        if mode == \"halt\":\n",
    "            if score > max_score:\n",
    "                max_score = score\n",
    "                print(f\"Max score updated to {score} - Iter {iter}\")\n",
    "\n",
    "            if shifts > max_shifts:\n",
    "                max_shifts = shifts\n",
    "                best_rules = rules_set\n",
    "                print(f\"Max shifts updated to {shifts} - Iter {iter}\")\n",
    "            \n",
    "            break"
   ]
  },
  {
   "cell_type": "code",
   "execution_count": 57,
   "id": "454f90af",
   "metadata": {},
   "outputs": [
    {
     "data": {
      "text/plain": [
       "{('a', '0'): ['1', 'l', 'c'],\n",
       " ('a', '1'): ['0', 'l', 'halt'],\n",
       " ('b', '0'): ['1', 'r', 'b'],\n",
       " ('b', '1'): ['1', 'r', 'a'],\n",
       " ('c', '0'): ['1', 'r', 'c'],\n",
       " ('c', '1'): ['0', 'l', 'b']}"
      ]
     },
     "execution_count": 57,
     "metadata": {},
     "output_type": "execute_result"
    }
   ],
   "source": [
    "best_rules"
   ]
  }
 ],
 "metadata": {
  "kernelspec": {
   "display_name": "Python 3 (ipykernel)",
   "language": "python",
   "name": "python3"
  },
  "language_info": {
   "codemirror_mode": {
    "name": "ipython",
    "version": 3
   },
   "file_extension": ".py",
   "mimetype": "text/x-python",
   "name": "python",
   "nbconvert_exporter": "python",
   "pygments_lexer": "ipython3",
   "version": "3.13.3"
  }
 },
 "nbformat": 4,
 "nbformat_minor": 5
}
