{
 "cells": [
  {
   "cell_type": "code",
   "execution_count": 483,
   "id": "676b8a2d",
   "metadata": {},
   "outputs": [],
   "source": [
    "import random\n",
    "from pprint import pprint"
   ]
  },
  {
   "cell_type": "code",
   "execution_count": 484,
   "id": "71ac340e",
   "metadata": {},
   "outputs": [],
   "source": [
    "n = 3\n",
    "iters = 700000\n",
    "max_steps_to_halt = 100\n",
    "\n",
    "initial_tape = [\"0\"]\n",
    "initial_head_idx = 0\n",
    "initial_mode = \"a\""
   ]
  },
  {
   "cell_type": "code",
   "execution_count": 485,
   "id": "91383e66",
   "metadata": {},
   "outputs": [],
   "source": [
    "write_set = [\"0\", \"1\"]\n",
    "move_set = [\"l\", \"r\"]\n",
    "next_mode_set = [chr(97+i) for i in range(n)]\n",
    "\n",
    "state_set = []\n",
    "for i in next_mode_set:\n",
    "    for j in write_set:\n",
    "        state_set.append((i, j))"
   ]
  },
  {
   "cell_type": "code",
   "execution_count": 486,
   "id": "f45939c3",
   "metadata": {},
   "outputs": [
    {
     "name": "stdout",
     "output_type": "stream",
     "text": [
      "write_set: ['0', '1']\n",
      "move_set: ['l', 'r']\n",
      "next_mode_set: ['a', 'b', 'c']\n",
      "state_set: [('a', '0'), ('a', '1'), ('b', '0'), ('b', '1'), ('c', '0'), ('c', '1')]\n"
     ]
    }
   ],
   "source": [
    "print(f\"write_set: {write_set}\")\n",
    "print(f\"move_set: {move_set}\")\n",
    "print(f\"next_mode_set: {next_mode_set}\")\n",
    "print(f\"state_set: {state_set}\")"
   ]
  },
  {
   "cell_type": "code",
   "execution_count": 487,
   "id": "11252555",
   "metadata": {},
   "outputs": [],
   "source": [
    "def generate_rules(state_set, write_set, move_set, next_mode_set):\n",
    "    rules_set = dict()\n",
    "    halt_state = random.choice(state_set)\n",
    "    for state in state_set:\n",
    "        write_act = random.choice(write_set)\n",
    "        move_act = random.choice(move_set)\n",
    "        next_mode_act = random.choice(next_mode_set)\n",
    "        rules_set[state] = [write_act, move_act, next_mode_act]\n",
    "    rules_set[halt_state][-1] = \"halt\"  # Define halt state\n",
    "    return rules_set\n",
    "\n",
    "# print(generate_rules(state_set, write_set, move_set, next_mode_set))"
   ]
  },
  {
   "cell_type": "code",
   "execution_count": 488,
   "id": "33c0cb5f",
   "metadata": {},
   "outputs": [],
   "source": [
    "def simulate_turing_machine(rules_set, tape, head_idx, mode):\n",
    "    current_symbol = tape[head_idx]\n",
    "    \n",
    "    write_symbol, move_direction, mode = rules_set[(mode, current_symbol)]\n",
    "    tape[head_idx] = write_symbol\n",
    "\n",
    "    if move_direction == \"r\":\n",
    "        head_idx += 1\n",
    "    elif move_direction == \"l\":\n",
    "        head_idx -= 1\n",
    "\n",
    "    if head_idx < 0:\n",
    "        tape.insert(0, \"0\")\n",
    "        head_idx = 0\n",
    "    if head_idx >= len(tape):\n",
    "        tape.insert(len(tape), \"0\")\n",
    "        head_idx = len(tape) - 1\n",
    "\n",
    "    return (tape, head_idx, mode)"
   ]
  },
  {
   "cell_type": "code",
   "execution_count": null,
   "id": "325a8039",
   "metadata": {},
   "outputs": [
    {
     "name": "stdout",
     "output_type": "stream",
     "text": [
      "Max score  updated to 1 at Iter 0\n",
      "Max shifts updated to 1 at Iter 0\n",
      "Max score  updated to 2 at Iter 19\n",
      "Max shifts updated to 3 at Iter 19\n",
      "Max score  updated to 3 at Iter 67\n",
      "Max shifts updated to 5 at Iter 67\n",
      "Max shifts updated to 6 at Iter 84\n",
      "Max shifts updated to 8 at Iter 157\n",
      "Max score  updated to 4 at Iter 282\n",
      "Max score  updated to 5 at Iter 738\n",
      "Max shifts updated to 9 at Iter 831\n",
      "Max shifts updated to 11 at Iter 913\n",
      "Max shifts updated to 17 at Iter 2627\n",
      "Max score  updated to 6 at Iter 23904\n",
      "Max shifts updated to 18 at Iter 179855\n",
      "Max shifts updated to 20 at Iter 313937\n",
      "Max shifts updated to 21 at Iter 390333\n"
     ]
    }
   ],
   "source": [
    "max_ones = 0\n",
    "max_steps = 0\n",
    "\n",
    "for iter in range(iters):\n",
    "    rules_set = generate_rules(state_set, write_set, move_set, next_mode_set)\n",
    "    tape = initial_tape.copy()\n",
    "    head_idx = initial_head_idx\n",
    "    mode = initial_mode\n",
    "    score = 0\n",
    "    shifts = 0\n",
    "    tape_history = []\n",
    "\n",
    "    for i in range(max_steps_to_halt):\n",
    "        new_tape = tape.copy()\n",
    "        tape_history.append(new_tape)\n",
    "        tape, head_idx, mode = simulate_turing_machine(rules_set, tape, head_idx, mode)\n",
    "        \n",
    "        score = tape.count(\"1\")\n",
    "        shifts = i+1\n",
    "\n",
    "        if mode == \"halt\":\n",
    "            new_tape = tape.copy()\n",
    "            tape_history.append(new_tape)\n",
    "            if score > max_ones:\n",
    "                max_ones = score\n",
    "                max_ones_champ_tape = tape_history\n",
    "                max_ones_champ_rules = rules_set\n",
    "                print(f\"Max score updated to {score} at Iter {iter}\")\n",
    "\n",
    "            if shifts > max_steps:\n",
    "                max_steps = shifts\n",
    "                max_steps_champ_tape = tape_history\n",
    "                max_steps_champ_rules = rules_set\n",
    "                print(f\"Max steps updated to {shifts} at Iter {iter}\")\n",
    "            \n",
    "            break"
   ]
  },
  {
   "cell_type": "code",
   "execution_count": 490,
   "id": "454f90af",
   "metadata": {},
   "outputs": [
    {
     "name": "stdout",
     "output_type": "stream",
     "text": [
      "Maximum steps: 21\n",
      "\n",
      "{('a', '0'): ['1', 'l', 'c'],\n",
      " ('a', '1'): ['1', 'r', 'halt'],\n",
      " ('b', '0'): ['1', 'r', 'b'],\n",
      " ('b', '1'): ['1', 'r', 'a'],\n",
      " ('c', '0'): ['1', 'r', 'c'],\n",
      " ('c', '1'): ['0', 'l', 'b']}\n",
      "\n",
      "\n",
      "[['0'],\n",
      " ['0', '1'],\n",
      " ['1', '1'],\n",
      " ['1', '0'],\n",
      " ['1', '0'],\n",
      " ['1', '1'],\n",
      " ['0', '0', '1'],\n",
      " ['1', '0', '1'],\n",
      " ['1', '1', '1'],\n",
      " ['1', '1', '1', '0'],\n",
      " ['1', '1', '1', '1'],\n",
      " ['1', '1', '0', '1'],\n",
      " ['1', '1', '0', '1'],\n",
      " ['1', '1', '1', '1'],\n",
      " ['1', '0', '1', '1'],\n",
      " ['1', '0', '1', '1'],\n",
      " ['1', '1', '1', '1'],\n",
      " ['0', '0', '1', '1', '1'],\n",
      " ['1', '0', '1', '1', '1'],\n",
      " ['1', '1', '1', '1', '1'],\n",
      " ['1', '1', '1', '1', '1'],\n",
      " ['1', '1', '1', '1', '1']]\n"
     ]
    }
   ],
   "source": [
    "print(f\"Maximum steps: {max_steps}\\n\")\n",
    "pprint(max_steps_champ_rules)\n",
    "print(\"\\n\")\n",
    "pprint(max_steps_champ_tape)"
   ]
  },
  {
   "cell_type": "code",
   "execution_count": 491,
   "id": "e151d4a3",
   "metadata": {},
   "outputs": [
    {
     "name": "stdout",
     "output_type": "stream",
     "text": [
      "Maximum ones: 6\n",
      "\n",
      "{('a', '0'): ['1', 'l', 'b'],\n",
      " ('a', '1'): ['1', 'r', 'c'],\n",
      " ('b', '0'): ['1', 'r', 'a'],\n",
      " ('b', '1'): ['1', 'l', 'b'],\n",
      " ('c', '0'): ['1', 'r', 'b'],\n",
      " ('c', '1'): ['1', 'r', 'halt']}\n",
      "\n",
      "\n",
      "[['0'],\n",
      " ['0', '1'],\n",
      " ['1', '1'],\n",
      " ['1', '1', '0'],\n",
      " ['1', '1', '1', '0'],\n",
      " ['1', '1', '1', '1', '0'],\n",
      " ['1', '1', '1', '1', '1'],\n",
      " ['1', '1', '1', '1', '1'],\n",
      " ['1', '1', '1', '1', '1'],\n",
      " ['1', '1', '1', '1', '1'],\n",
      " ['0', '1', '1', '1', '1', '1'],\n",
      " ['1', '1', '1', '1', '1', '1'],\n",
      " ['1', '1', '1', '1', '1', '1'],\n",
      " ['1', '1', '1', '1', '1', '1']]\n"
     ]
    }
   ],
   "source": [
    "print(f\"Maximum ones: {max_ones}\\n\")\n",
    "pprint(max_ones_champ_rules)\n",
    "print(\"\\n\")\n",
    "pprint(max_ones_champ_tape)"
   ]
  },
  {
   "cell_type": "code",
   "execution_count": null,
   "id": "afaf0b87",
   "metadata": {},
   "outputs": [],
   "source": []
  }
 ],
 "metadata": {
  "kernelspec": {
   "display_name": "Python 3 (ipykernel)",
   "language": "python",
   "name": "python3"
  }
 },
 "nbformat": 4,
 "nbformat_minor": 5
}
